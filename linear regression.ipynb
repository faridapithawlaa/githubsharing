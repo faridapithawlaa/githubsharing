{
 "cells": [
  {
   "cell_type": "code",
   "execution_count": 1,
   "metadata": {},
   "outputs": [],
   "source": [
    "import pandas as pd"
   ]
  },
  {
   "cell_type": "code",
   "execution_count": 24,
   "metadata": {},
   "outputs": [
    {
     "name": "stdout",
     "output_type": "stream",
     "text": [
      "MEAN ABSOLUTE ERROR OF REGRESSION MODEL: 0.003453282191956742\n",
      "Fruad Cases: 492\n",
      "valid Cases: 284315\n",
      "Outlier Cases 0.0017304750013189597\n"
     ]
    }
   ],
   "source": [
    "import pandas as pd\n",
    "from sklearn.model_selection import train_test_split\n",
    "from sklearn.linear_model import LinearRegression\n",
    "from sklearn.metrics import mean_absolute_error\n",
    "from sklearn.metrics import confusion_matrix\n",
    "\n",
    "credit_data = pd.read_csv(\"creditcard.csv\")\n",
    "creditdata = credit_data.iloc[:, :-1]\n",
    "creditoutput = credit_data.Class\n",
    "\n",
    "X_train,X_test,y_train,y_test = train_test_split(creditdata, creditoutput,train_size= 0.8,test_size=0.2, random_state=0)\n",
    "linearmodel = LinearRegression()\n",
    "linearmodel.fit(X_train,y_train)\n",
    "prediction= linearmodel.predict(X_test)\n",
    "mae = mean_absolute_error(y_test, prediction)\n",
    "#confusion_matrix = confusion_matrix(y_test, prediction)\n",
    "print('MEAN ABSOLUTE ERROR OF REGRESSION MODEL: {}'.format(mae))\n",
    "#print('CONFUSION MATRIX: {}'.format(confusion_matrix))\n",
    "\n",
    "fraud= credit_data[credit_data['Class']== 1]\n",
    "valid= credit_data[credit_data['Class']== 0]\n",
    "outlier = float(len(fraud))/float(len(valid))\n",
    "print('Fruad Cases: {}'.format(len(fraud)))\n",
    "print('valid Cases: {}'.format(len(valid)))\n",
    "print('Outlier Cases',outlier)\n",
    "\n"
   ]
  }
 ],
 "metadata": {
  "kernelspec": {
   "display_name": "Python 3",
   "language": "python",
   "name": "python3"
  },
  "language_info": {
   "codemirror_mode": {
    "name": "ipython",
    "version": 3
   },
   "file_extension": ".py",
   "mimetype": "text/x-python",
   "name": "python",
   "nbconvert_exporter": "python",
   "pygments_lexer": "ipython3",
   "version": "3.7.6"
  }
 },
 "nbformat": 4,
 "nbformat_minor": 4
}
